{
 "cells": [
  {
   "cell_type": "code",
   "execution_count": 3,
   "id": "6542c7fd",
   "metadata": {},
   "outputs": [],
   "source": [
    "import pandas as pd\n",
    "import seaborn as sns\n",
    "import matplotlib.pyplot as plt\n",
    "import subprocess\n",
    "import numpy as np"
   ]
  },
  {
   "attachments": {},
   "cell_type": "markdown",
   "id": "22fd4fc1",
   "metadata": {},
   "source": [
    "### read in and first cleaning"
   ]
  },
  {
   "cell_type": "markdown",
   "id": "59c0c3e2",
   "metadata": {},
   "source": [
    "I had to divide my data into a few datasets while downloading from web analytics tools. That's why, below, I read in a few files and merge them.\n",
    "\n",
    "The raw table has the following columns:\n",
    "* sess_date: date of the session\n",
    "* hour: hour of the hit\n",
    "* minute: minute of the hit\n",
    "* syn_ID: user ID \n",
    "* bounces: 1 if the session was a bounce (a non-engaged one)\n",
    "* trans_id: transaction ID if there was a transaction made\n",
    "* revenue: if there was a transaction, how much the customer paid\n",
    "* session_source \n",
    "* session_medium\n",
    "* session_campaign\n",
    "* eventCategory: in my case, session_start, add_to_cart, add_to_favorites, check_availability_offline, and purchase\n",
    "\n",
    "\n",
    "To clean it up:\n",
    "* drop rows with no user ID,\n",
    "* fill NaN's in columns: bounces, trans_id, revenue\n",
    "* based on source, medium and campaign, define the channel that brought the user to the shop page\n"
   ]
  },
  {
   "cell_type": "code",
   "execution_count": null,
   "id": "b3dbeb12",
   "metadata": {},
   "outputs": [],
   "source": [
    "files_to_read_in = ['file1.csv', 'file2.csv']"
   ]
  },
  {
   "cell_type": "code",
   "execution_count": null,
   "id": "6b441c03",
   "metadata": {},
   "outputs": [],
   "source": [
    "df = pd.concat(\n",
    "    map(pd.read_csv, files_to_read_in), ignore_index=True)\n",
    "df.dropna(subset = ['syn_ID'])"
   ]
  },
  {
   "attachments": {},
   "cell_type": "markdown",
   "id": "c9fb5dc9",
   "metadata": {},
   "source": [
    "### order in time"
   ]
  },
  {
   "cell_type": "markdown",
   "id": "bdbaf9dc",
   "metadata": {},
   "source": [
    "Merge sess_date, hour and minute into one column to sort user interactions in time."
   ]
  },
  {
   "cell_type": "code",
   "execution_count": 11,
   "id": "3aeb2684",
   "metadata": {},
   "outputs": [],
   "source": [
    "df['sess_date'] = df['sess_date'].astype(str)\n",
    "df['hour'] = df['hour'].astype(str).str.zfill(2)\n",
    "df['minute'] = df['minute'].astype(str).str.zfill(2)\n",
    "df['sess_date_time'] = df['sess_date'] + df['hour']  + df['minute']"
   ]
  },
  {
   "cell_type": "code",
   "execution_count": null,
   "id": "2891332e-ca13-4a59-adb9-ee4da4f8e68f",
   "metadata": {},
   "outputs": [],
   "source": [
    "df_sel = df[[\"syn_ID\",\"sess_date_time\",\"channel\",\"eventCategory\",\"bounces\"]]\n",
    "df_sel.dropna(inplace=True)"
   ]
  },
  {
   "cell_type": "markdown",
   "id": "390e851a",
   "metadata": {},
   "source": [
    "Create a column with an interaction number. Then I can drop the \"big\" column sess_date_time."
   ]
  },
  {
   "cell_type": "code",
   "execution_count": null,
   "id": "bc2318b9",
   "metadata": {},
   "outputs": [],
   "source": [
    "df_sel['num'] = df_sel.groupby(['syn_ID'])['sess_date_time'].rank(method='min')\n",
    "\n",
    "df_sel.drop(columns=['sess_date_time'], inplace=True)"
   ]
  },
  {
   "attachments": {},
   "cell_type": "markdown",
   "id": "069e3a06",
   "metadata": {},
   "source": [
    "### paths"
   ]
  },
  {
   "attachments": {},
   "cell_type": "markdown",
   "id": "ceb0ed13",
   "metadata": {},
   "source": [
    "##### user ID mapping\n",
    "because the ID column was too heavy to process (to not kill my computer)"
   ]
  },
  {
   "cell_type": "code",
   "execution_count": 5,
   "id": "6c3b662d",
   "metadata": {},
   "outputs": [],
   "source": [
    "syn_IDs = df_sel['syn_ID'].unique()  \n",
    "id_dict = {}  \n",
    "\n",
    "for i, syn_ID in enumerate(syn_IDs):\n",
    "    id_dict[syn_ID] = i  \n",
    "\n",
    "# create a new column with the mapped syn_IDs\n",
    "df_sel['syn_ID_mapped'] = df_sel['syn_ID'].map(id_dict)\n",
    "\n",
    "# drop old column\n",
    "df_sel.drop('syn_ID', axis=1, inplace=True)\n",
    "\n",
    "# rename new column\n",
    "df_sel.rename(columns={'syn_ID_mapped': 'syn_ID'}, inplace=True)"
   ]
  },
  {
   "attachments": {},
   "cell_type": "markdown",
   "id": "faff60aa",
   "metadata": {},
   "source": [
    "##### column to create paths"
   ]
  },
  {
   "cell_type": "code",
   "execution_count": 3,
   "id": "2f986926",
   "metadata": {},
   "outputs": [],
   "source": [
    "# if user interaction is session_start, then I want the channel name, if not, I take the event fired on the page\n",
    "\n",
    "df_sel['to_chann'] = np.where((df_sel['eventCategory'] == 'session') | (df_sel['eventCategory'] == 'bounce'),\n",
    "                                df_sel['channel'], df_sel['eventCategory'])\n",
    "\n",
    "# and now I can drop those old columns\n",
    "df_sel.drop(['eventCategory','channel'], axis=1, inplace=True)"
   ]
  },
  {
   "attachments": {},
   "cell_type": "markdown",
   "id": "cb526ca1",
   "metadata": {},
   "source": [
    "##### group by user ID - take all the interactions of one user and create user's path"
   ]
  },
  {
   "cell_type": "code",
   "execution_count": 5,
   "id": "2571ebe9",
   "metadata": {},
   "outputs": [],
   "source": [
    "df_paths = (df_sel.sort_values(by=['num']).groupby(['syn_ID'])\n",
    "        .agg({'to_chann': lambda x: x.tolist()})\n",
    "        .reset_index())"
   ]
  },
  {
   "attachments": {},
   "cell_type": "markdown",
   "id": "c98ca95a",
   "metadata": {},
   "source": [
    "##### split paths so that one path would end while conversion"
   ]
  },
  {
   "cell_type": "code",
   "execution_count": null,
   "id": "d1327884",
   "metadata": {},
   "outputs": [
    {
     "data": {
      "text/html": [
       "<div>\n",
       "<style scoped>\n",
       "    .dataframe tbody tr th:only-of-type {\n",
       "        vertical-align: middle;\n",
       "    }\n",
       "\n",
       "    .dataframe tbody tr th {\n",
       "        vertical-align: top;\n",
       "    }\n",
       "\n",
       "    .dataframe thead th {\n",
       "        text-align: right;\n",
       "    }\n",
       "</style>\n",
       "<table border=\"1\" class=\"dataframe\">\n",
       "  <thead>\n",
       "    <tr style=\"text-align: right;\">\n",
       "      <th></th>\n",
       "      <th>syn_ID</th>\n",
       "      <th>to_chann</th>\n",
       "      <th>sess</th>\n",
       "    </tr>\n",
       "  </thead>\n",
       "  <tbody>\n",
       "    <tr>\n",
       "      <th>0</th>\n",
       "      <td>0</td>\n",
       "      <td>['start'|'google_p'|'other_t'|'other_t'|'other...</td>\n",
       "      <td>28</td>\n",
       "    </tr>\n",
       "    <tr>\n",
       "      <th>1</th>\n",
       "      <td>1</td>\n",
       "      <td>['start'|'other_t'|'other_t'|'other_t'|'other_...</td>\n",
       "      <td>39</td>\n",
       "    </tr>\n",
       "    <tr>\n",
       "      <th>2</th>\n",
       "      <td>1</td>\n",
       "      <td>['start'|'google_p'|'google_p'|'google_p'|'goo...</td>\n",
       "      <td>25</td>\n",
       "    </tr>\n",
       "    <tr>\n",
       "      <th>3</th>\n",
       "      <td>1</td>\n",
       "      <td>['start'|'other_p'|'other_p'|'other_p'|'other_...</td>\n",
       "      <td>13</td>\n",
       "    </tr>\n",
       "    <tr>\n",
       "      <th>4</th>\n",
       "      <td>2</td>\n",
       "      <td>['start'|'other_p'|'other_p'|'other_p'|'other_...</td>\n",
       "      <td>5</td>\n",
       "    </tr>\n",
       "    <tr>\n",
       "      <th>...</th>\n",
       "      <td>...</td>\n",
       "      <td>...</td>\n",
       "      <td>...</td>\n",
       "    </tr>\n",
       "    <tr>\n",
       "      <th>10732318</th>\n",
       "      <td>10144802</td>\n",
       "      <td>['start'|'retargeting'|'null']</td>\n",
       "      <td>1</td>\n",
       "    </tr>\n",
       "    <tr>\n",
       "      <th>10732319</th>\n",
       "      <td>10144803</td>\n",
       "      <td>['start'|'retargeting'|'retargeting'|'null']</td>\n",
       "      <td>2</td>\n",
       "    </tr>\n",
       "    <tr>\n",
       "      <th>10732320</th>\n",
       "      <td>10144804</td>\n",
       "      <td>['start'|'retargeting'|'null']</td>\n",
       "      <td>1</td>\n",
       "    </tr>\n",
       "    <tr>\n",
       "      <th>10732321</th>\n",
       "      <td>10144805</td>\n",
       "      <td>['start'|'retargeting'|'retargeting'|'null']</td>\n",
       "      <td>2</td>\n",
       "    </tr>\n",
       "    <tr>\n",
       "      <th>10732322</th>\n",
       "      <td>10144806</td>\n",
       "      <td>['start'|'retargeting'|'null']</td>\n",
       "      <td>1</td>\n",
       "    </tr>\n",
       "  </tbody>\n",
       "</table>\n",
       "<p>10732323 rows × 3 columns</p>\n",
       "</div>"
      ],
      "text/plain": [
       "            syn_ID                                           to_chann  sess\n",
       "0                0  ['start'|'google_p'|'other_t'|'other_t'|'other...    28\n",
       "1                1  ['start'|'other_t'|'other_t'|'other_t'|'other_...    39\n",
       "2                1  ['start'|'google_p'|'google_p'|'google_p'|'goo...    25\n",
       "3                1  ['start'|'other_p'|'other_p'|'other_p'|'other_...    13\n",
       "4                2  ['start'|'other_p'|'other_p'|'other_p'|'other_...     5\n",
       "...            ...                                                ...   ...\n",
       "10732318  10144802                     ['start'|'retargeting'|'null']     1\n",
       "10732319  10144803       ['start'|'retargeting'|'retargeting'|'null']     2\n",
       "10732320  10144804                     ['start'|'retargeting'|'null']     1\n",
       "10732321  10144805       ['start'|'retargeting'|'retargeting'|'null']     2\n",
       "10732322  10144806                     ['start'|'retargeting'|'null']     1\n",
       "\n",
       "[10732323 rows x 3 columns]"
      ]
     },
     "execution_count": 10,
     "metadata": {},
     "output_type": "execute_result"
    }
   ],
   "source": [
    "df_paths['to_chann'] = df_paths['to_chann'].str.split('version')"
   ]
  },
  {
   "cell_type": "code",
   "execution_count": 19,
   "id": "2cc9ea8d",
   "metadata": {},
   "outputs": [],
   "source": [
    "df_paths2 = df_paths.explode(['to_chann'])"
   ]
  },
  {
   "attachments": {},
   "cell_type": "markdown",
   "id": "e225b70b",
   "metadata": {},
   "source": [
    "##### exploded paths, counting sessions number"
   ]
  },
  {
   "cell_type": "code",
   "execution_count": 21,
   "id": "c0959b49",
   "metadata": {},
   "outputs": [
    {
     "data": {
      "text/html": [
       "<div>\n",
       "<style scoped>\n",
       "    .dataframe tbody tr th:only-of-type {\n",
       "        vertical-align: middle;\n",
       "    }\n",
       "\n",
       "    .dataframe tbody tr th {\n",
       "        vertical-align: top;\n",
       "    }\n",
       "\n",
       "    .dataframe thead th {\n",
       "        text-align: right;\n",
       "    }\n",
       "</style>\n",
       "<table border=\"1\" class=\"dataframe\">\n",
       "  <thead>\n",
       "    <tr style=\"text-align: right;\">\n",
       "      <th></th>\n",
       "      <th>syn_ID</th>\n",
       "      <th>to_chann</th>\n",
       "      <th>sess</th>\n",
       "    </tr>\n",
       "  </thead>\n",
       "  <tbody>\n",
       "    <tr>\n",
       "      <th>0</th>\n",
       "      <td>0</td>\n",
       "      <td>'start'|'google_p'|'other_t'|'other_t'|'other_t'|'other_t'|'other_t'|'other_t'|'other_t'|'other_t'|'other_t'|'seo'|'avail'|'other_t'|'other_t'|'ot...</td>\n",
       "      <td>28</td>\n",
       "    </tr>\n",
       "    <tr>\n",
       "      <th>1</th>\n",
       "      <td>1</td>\n",
       "      <td>'start'|'other_t'|'other_t'|'other_t'|'other_t'|'other_t'|'other_t'|'other_t'|'other_t'|'other_t'|'other_t'|'other_t'|'other_t'|'other_t'|'other_t...</td>\n",
       "      <td>39</td>\n",
       "    </tr>\n",
       "    <tr>\n",
       "      <th>1</th>\n",
       "      <td>1</td>\n",
       "      <td>'</td>\n",
       "      <td>39</td>\n",
       "    </tr>\n",
       "    <tr>\n",
       "      <th>2</th>\n",
       "      <td>1</td>\n",
       "      <td>'start'|'google_p'|'google_p'|'google_p'|'google_p'|'google_p'|'google_p'|'google_p'|'google_p'|'seo'|'seo'|'seo'|'seo'|'seo'|'seo'|'seo'|'other_p...</td>\n",
       "      <td>25</td>\n",
       "    </tr>\n",
       "    <tr>\n",
       "      <th>2</th>\n",
       "      <td>1</td>\n",
       "      <td>'</td>\n",
       "      <td>25</td>\n",
       "    </tr>\n",
       "    <tr>\n",
       "      <th>3</th>\n",
       "      <td>1</td>\n",
       "      <td>'start'|'other_p'|'other_p'|'other_p'|'other_p'|'other_p'|'other_p'|'other_p'|'other_p'|'other_p'|'seo'|'seo'|'seo'|'seo'|'null'</td>\n",
       "      <td>13</td>\n",
       "    </tr>\n",
       "    <tr>\n",
       "      <th>4</th>\n",
       "      <td>2</td>\n",
       "      <td>'start'|'other_p'|'other_p'|'other_p'|'other_p'|'avail'|'other_p'|'null'</td>\n",
       "      <td>5</td>\n",
       "    </tr>\n",
       "    <tr>\n",
       "      <th>5</th>\n",
       "      <td>3</td>\n",
       "      <td>'start'|'other_p'|'other_p'|'other_p'|'other_p'|'cart'|'other_p'|'other_p'|'other_p'|'other_p'|'other_p'|'other_p'|'null'</td>\n",
       "      <td>10</td>\n",
       "    </tr>\n",
       "    <tr>\n",
       "      <th>6</th>\n",
       "      <td>4</td>\n",
       "      <td>'start'|'other_t'|'other_t'|'avail'|'cart'|'null'</td>\n",
       "      <td>2</td>\n",
       "    </tr>\n",
       "    <tr>\n",
       "      <th>7</th>\n",
       "      <td>5</td>\n",
       "      <td>'start'|'seo'|'cart'|'other_p'|'other_p'|'seo'|'other_p'|'affiliate'|'affiliate'|'other_p'|'affiliate'|'other_p'|'affiliate'|'other_p'|'other_p'|'...</td>\n",
       "      <td>15</td>\n",
       "    </tr>\n",
       "    <tr>\n",
       "      <th>8</th>\n",
       "      <td>6</td>\n",
       "      <td>'start'|'other_p'|'other_p'|'other_p'|'other_p'|'other_p'|'other_p'|'other_p'|'other_p'|'other_p'|'other_p'|'other_p'|'cart'|'other_p'|'cart'|'oth...</td>\n",
       "      <td>23</td>\n",
       "    </tr>\n",
       "    <tr>\n",
       "      <th>8</th>\n",
       "      <td>6</td>\n",
       "      <td>'</td>\n",
       "      <td>23</td>\n",
       "    </tr>\n",
       "    <tr>\n",
       "      <th>9</th>\n",
       "      <td>6</td>\n",
       "      <td>'start'|'other_p'|'other_p'|'other_p'|'other_p'|'other_p'|'other_p'|'other_p'|'other_p'|'other_p'|'other_p'|'other_p'|'other_p'|'other_p'|'other_p...</td>\n",
       "      <td>47</td>\n",
       "    </tr>\n",
       "    <tr>\n",
       "      <th>9</th>\n",
       "      <td>6</td>\n",
       "      <td>'</td>\n",
       "      <td>47</td>\n",
       "    </tr>\n",
       "    <tr>\n",
       "      <th>10</th>\n",
       "      <td>6</td>\n",
       "      <td>'start'|'other_p'|'other_p'|'other_p'|'other_p'|'other_p'|'other_p'|'cart'|'other_p'|'cart'|'other_p'|'other_p'|'other_p'|'other_p'|'other_p'|'oth...</td>\n",
       "      <td>26</td>\n",
       "    </tr>\n",
       "    <tr>\n",
       "      <th>10</th>\n",
       "      <td>6</td>\n",
       "      <td>'</td>\n",
       "      <td>26</td>\n",
       "    </tr>\n",
       "    <tr>\n",
       "      <th>11</th>\n",
       "      <td>6</td>\n",
       "      <td>'start'|'other_p'|'other_p'|'other_p'|'other_p'|'other_p'|'other_p'|'other_p'|'other_p'|'other_p'|'other_p'|'other_p'|'cart'|'other_p'|'other_p'|'...</td>\n",
       "      <td>14</td>\n",
       "    </tr>\n",
       "    <tr>\n",
       "      <th>12</th>\n",
       "      <td>7</td>\n",
       "      <td>'start'|'club'|'club'|'club'|'club'|'club'|'club'|'club'|'club'|'club'|'cart'|'club'|'cart'|'club'|'club'|'club'|'club'|'null'</td>\n",
       "      <td>14</td>\n",
       "    </tr>\n",
       "    <tr>\n",
       "      <th>13</th>\n",
       "      <td>8</td>\n",
       "      <td>'start'|'google_p'|'club'|'seo'|'google_p'|'club'|'google_p'|'google_p'|'google_p'|'club'|'club'|'google_p'|'google_p'|'google_p'|'club'|'google_p...</td>\n",
       "      <td>39</td>\n",
       "    </tr>\n",
       "    <tr>\n",
       "      <th>13</th>\n",
       "      <td>8</td>\n",
       "      <td>'</td>\n",
       "      <td>39</td>\n",
       "    </tr>\n",
       "    <tr>\n",
       "      <th>14</th>\n",
       "      <td>8</td>\n",
       "      <td>'start'|'club'|'google_p'|'club'|'google_p'|'google_p'|'club'|'google_p'|'club'|'google_p'|'club'|'google_p'|'club'|'google_p'|'cart'|'club'|'fav'...</td>\n",
       "      <td>52</td>\n",
       "    </tr>\n",
       "    <tr>\n",
       "      <th>14</th>\n",
       "      <td>8</td>\n",
       "      <td>'</td>\n",
       "      <td>52</td>\n",
       "    </tr>\n",
       "    <tr>\n",
       "      <th>15</th>\n",
       "      <td>8</td>\n",
       "      <td>'start'|'seo'|'null'</td>\n",
       "      <td>1</td>\n",
       "    </tr>\n",
       "    <tr>\n",
       "      <th>16</th>\n",
       "      <td>9</td>\n",
       "      <td>'start'|'other_p'|'other_p'|'other_p'|'other_p'|'other_p'|'other_p'|'other_p'|'other_p'|'other_p'|'other_p'|'other_p'|'other_p'|'avail'|'avail'|'o...</td>\n",
       "      <td>92</td>\n",
       "    </tr>\n",
       "    <tr>\n",
       "      <th>16</th>\n",
       "      <td>9</td>\n",
       "      <td>'</td>\n",
       "      <td>92</td>\n",
       "    </tr>\n",
       "    <tr>\n",
       "      <th>17</th>\n",
       "      <td>9</td>\n",
       "      <td>'start'|'other_p'|'other_p'|'other_p'|'other_p'|'other_p'|'other_p'|'other_p'|'other_p'|'other_p'|'other_p'|'other_p'|'other_p'|'other_p'|'other_p...</td>\n",
       "      <td>33</td>\n",
       "    </tr>\n",
       "    <tr>\n",
       "      <th>18</th>\n",
       "      <td>10</td>\n",
       "      <td>'start'|'other_p'|'other_p'|'other_p'|'other_p'|'other_p'|'cart'|'other_p'|'other_p'|'avail'|'cart'|'cart'|'other_p'|'other_p'|'avail'|'other_p'|'...</td>\n",
       "      <td>29</td>\n",
       "    </tr>\n",
       "    <tr>\n",
       "      <th>19</th>\n",
       "      <td>11</td>\n",
       "      <td>'start'|'other_t'|'other_t'|'fav'|'null'</td>\n",
       "      <td>2</td>\n",
       "    </tr>\n",
       "    <tr>\n",
       "      <th>20</th>\n",
       "      <td>12</td>\n",
       "      <td>'start'|'other_p'|'avail'|'other_p'|'other_p'|'other_p'|'other_p'|'other_p'|'other_p'|'other_p'|'other_p'|'other_p'|'other_p'|'other_p'|'other_p'|...</td>\n",
       "      <td>30</td>\n",
       "    </tr>\n",
       "    <tr>\n",
       "      <th>21</th>\n",
       "      <td>13</td>\n",
       "      <td>'start'|'club'|'club'|'club'|'club'|'club'|'club'|'cart'|'cart'|'club'|'club'|'cart'|'club'|'club'|'club'|'cart'|'other_p'|'other_p'|'cart'|'cart'...</td>\n",
       "      <td>55</td>\n",
       "    </tr>\n",
       "  </tbody>\n",
       "</table>\n",
       "</div>"
      ],
      "text/plain": [
       "    syn_ID  \\\n",
       "0        0   \n",
       "1        1   \n",
       "1        1   \n",
       "2        1   \n",
       "2        1   \n",
       "3        1   \n",
       "4        2   \n",
       "5        3   \n",
       "6        4   \n",
       "7        5   \n",
       "8        6   \n",
       "8        6   \n",
       "9        6   \n",
       "9        6   \n",
       "10       6   \n",
       "10       6   \n",
       "11       6   \n",
       "12       7   \n",
       "13       8   \n",
       "13       8   \n",
       "14       8   \n",
       "14       8   \n",
       "15       8   \n",
       "16       9   \n",
       "16       9   \n",
       "17       9   \n",
       "18      10   \n",
       "19      11   \n",
       "20      12   \n",
       "21      13   \n",
       "\n",
       "                                                                                                                                                 to_chann  \\\n",
       "0   'start'|'google_p'|'other_t'|'other_t'|'other_t'|'other_t'|'other_t'|'other_t'|'other_t'|'other_t'|'other_t'|'seo'|'avail'|'other_t'|'other_t'|'ot...   \n",
       "1   'start'|'other_t'|'other_t'|'other_t'|'other_t'|'other_t'|'other_t'|'other_t'|'other_t'|'other_t'|'other_t'|'other_t'|'other_t'|'other_t'|'other_t...   \n",
       "1                                                                                                                                                       '   \n",
       "2   'start'|'google_p'|'google_p'|'google_p'|'google_p'|'google_p'|'google_p'|'google_p'|'google_p'|'seo'|'seo'|'seo'|'seo'|'seo'|'seo'|'seo'|'other_p...   \n",
       "2                                                                                                                                                       '   \n",
       "3                        'start'|'other_p'|'other_p'|'other_p'|'other_p'|'other_p'|'other_p'|'other_p'|'other_p'|'other_p'|'seo'|'seo'|'seo'|'seo'|'null'   \n",
       "4                                                                                'start'|'other_p'|'other_p'|'other_p'|'other_p'|'avail'|'other_p'|'null'   \n",
       "5                               'start'|'other_p'|'other_p'|'other_p'|'other_p'|'cart'|'other_p'|'other_p'|'other_p'|'other_p'|'other_p'|'other_p'|'null'   \n",
       "6                                                                                                       'start'|'other_t'|'other_t'|'avail'|'cart'|'null'   \n",
       "7   'start'|'seo'|'cart'|'other_p'|'other_p'|'seo'|'other_p'|'affiliate'|'affiliate'|'other_p'|'affiliate'|'other_p'|'affiliate'|'other_p'|'other_p'|'...   \n",
       "8   'start'|'other_p'|'other_p'|'other_p'|'other_p'|'other_p'|'other_p'|'other_p'|'other_p'|'other_p'|'other_p'|'other_p'|'cart'|'other_p'|'cart'|'oth...   \n",
       "8                                                                                                                                                       '   \n",
       "9   'start'|'other_p'|'other_p'|'other_p'|'other_p'|'other_p'|'other_p'|'other_p'|'other_p'|'other_p'|'other_p'|'other_p'|'other_p'|'other_p'|'other_p...   \n",
       "9                                                                                                                                                       '   \n",
       "10  'start'|'other_p'|'other_p'|'other_p'|'other_p'|'other_p'|'other_p'|'cart'|'other_p'|'cart'|'other_p'|'other_p'|'other_p'|'other_p'|'other_p'|'oth...   \n",
       "10                                                                                                                                                      '   \n",
       "11  'start'|'other_p'|'other_p'|'other_p'|'other_p'|'other_p'|'other_p'|'other_p'|'other_p'|'other_p'|'other_p'|'other_p'|'cart'|'other_p'|'other_p'|'...   \n",
       "12                         'start'|'club'|'club'|'club'|'club'|'club'|'club'|'club'|'club'|'club'|'cart'|'club'|'cart'|'club'|'club'|'club'|'club'|'null'   \n",
       "13  'start'|'google_p'|'club'|'seo'|'google_p'|'club'|'google_p'|'google_p'|'google_p'|'club'|'club'|'google_p'|'google_p'|'google_p'|'club'|'google_p...   \n",
       "13                                                                                                                                                      '   \n",
       "14  'start'|'club'|'google_p'|'club'|'google_p'|'google_p'|'club'|'google_p'|'club'|'google_p'|'club'|'google_p'|'club'|'google_p'|'cart'|'club'|'fav'...   \n",
       "14                                                                                                                                                      '   \n",
       "15                                                                                                                                   'start'|'seo'|'null'   \n",
       "16  'start'|'other_p'|'other_p'|'other_p'|'other_p'|'other_p'|'other_p'|'other_p'|'other_p'|'other_p'|'other_p'|'other_p'|'other_p'|'avail'|'avail'|'o...   \n",
       "16                                                                                                                                                      '   \n",
       "17  'start'|'other_p'|'other_p'|'other_p'|'other_p'|'other_p'|'other_p'|'other_p'|'other_p'|'other_p'|'other_p'|'other_p'|'other_p'|'other_p'|'other_p...   \n",
       "18  'start'|'other_p'|'other_p'|'other_p'|'other_p'|'other_p'|'cart'|'other_p'|'other_p'|'avail'|'cart'|'cart'|'other_p'|'other_p'|'avail'|'other_p'|'...   \n",
       "19                                                                                                               'start'|'other_t'|'other_t'|'fav'|'null'   \n",
       "20  'start'|'other_p'|'avail'|'other_p'|'other_p'|'other_p'|'other_p'|'other_p'|'other_p'|'other_p'|'other_p'|'other_p'|'other_p'|'other_p'|'other_p'|...   \n",
       "21  'start'|'club'|'club'|'club'|'club'|'club'|'club'|'cart'|'cart'|'club'|'club'|'cart'|'club'|'club'|'club'|'cart'|'other_p'|'other_p'|'cart'|'cart'...   \n",
       "\n",
       "    sess  \n",
       "0     28  \n",
       "1     39  \n",
       "1     39  \n",
       "2     25  \n",
       "2     25  \n",
       "3     13  \n",
       "4      5  \n",
       "5     10  \n",
       "6      2  \n",
       "7     15  \n",
       "8     23  \n",
       "8     23  \n",
       "9     47  \n",
       "9     47  \n",
       "10    26  \n",
       "10    26  \n",
       "11    14  \n",
       "12    14  \n",
       "13    39  \n",
       "13    39  \n",
       "14    52  \n",
       "14    52  \n",
       "15     1  \n",
       "16    92  \n",
       "16    92  \n",
       "17    33  \n",
       "18    29  \n",
       "19     2  \n",
       "20    30  \n",
       "21    55  "
      ]
     },
     "execution_count": 21,
     "metadata": {},
     "output_type": "execute_result"
    }
   ],
   "source": [
    "# I separated the paths on the 'conversion' word, so now I restore it  \n",
    "df_paths2['to_chann'] = df_paths2['to_chann'].str.replace(r'con', 'conversion', regex=True)"
   ]
  },
  {
   "cell_type": "code",
   "execution_count": 18,
   "id": "910c87ff",
   "metadata": {},
   "outputs": [],
   "source": [
    "df_paths2['to_chann'] = 'start|' + df_paths2['to_chann']"
   ]
  },
  {
   "cell_type": "code",
   "execution_count": 23,
   "id": "ff1c23ff",
   "metadata": {},
   "outputs": [],
   "source": [
    "df_paths2['to_chann'] = df_paths2['to_chann'].str.split('|')"
   ]
  },
  {
   "cell_type": "code",
   "execution_count": 28,
   "id": "9db28c5e",
   "metadata": {},
   "outputs": [
    {
     "data": {
      "text/html": [
       "<div>\n",
       "<style scoped>\n",
       "    .dataframe tbody tr th:only-of-type {\n",
       "        vertical-align: middle;\n",
       "    }\n",
       "\n",
       "    .dataframe tbody tr th {\n",
       "        vertical-align: top;\n",
       "    }\n",
       "\n",
       "    .dataframe thead th {\n",
       "        text-align: right;\n",
       "    }\n",
       "</style>\n",
       "<table border=\"1\" class=\"dataframe\">\n",
       "  <thead>\n",
       "    <tr style=\"text-align: right;\">\n",
       "      <th></th>\n",
       "      <th>syn_ID</th>\n",
       "      <th>to_chann</th>\n",
       "      <th>sess</th>\n",
       "    </tr>\n",
       "  </thead>\n",
       "  <tbody>\n",
       "    <tr>\n",
       "      <th>0</th>\n",
       "      <td>0</td>\n",
       "      <td>[start, google_p, other_t, other_t, other_t, other_t, other_t, other_t, other_t, other_t, other_t, seo, avail, other_t, other_t, other_t, avail, o...</td>\n",
       "      <td>28</td>\n",
       "    </tr>\n",
       "    <tr>\n",
       "      <th>1</th>\n",
       "      <td>1</td>\n",
       "      <td>[start, other_t, other_t, other_t, other_t, other_t, other_t, other_t, other_t, other_t, other_t, other_t, other_t, other_t, other_t, other_t, oth...</td>\n",
       "      <td>39</td>\n",
       "    </tr>\n",
       "    <tr>\n",
       "      <th>1</th>\n",
       "      <td>1</td>\n",
       "      <td>[]</td>\n",
       "      <td>1</td>\n",
       "    </tr>\n",
       "    <tr>\n",
       "      <th>2</th>\n",
       "      <td>1</td>\n",
       "      <td>[start, google_p, google_p, google_p, google_p, google_p, google_p, google_p, google_p, seo, seo, seo, seo, seo, seo, seo, other_p, other_p, other...</td>\n",
       "      <td>25</td>\n",
       "    </tr>\n",
       "    <tr>\n",
       "      <th>2</th>\n",
       "      <td>1</td>\n",
       "      <td>[]</td>\n",
       "      <td>1</td>\n",
       "    </tr>\n",
       "    <tr>\n",
       "      <th>...</th>\n",
       "      <td>...</td>\n",
       "      <td>...</td>\n",
       "      <td>...</td>\n",
       "    </tr>\n",
       "    <tr>\n",
       "      <th>10732318</th>\n",
       "      <td>10144802</td>\n",
       "      <td>[start, retargeting, null]</td>\n",
       "      <td>1</td>\n",
       "    </tr>\n",
       "    <tr>\n",
       "      <th>10732319</th>\n",
       "      <td>10144803</td>\n",
       "      <td>[start, retargeting, retargeting, null]</td>\n",
       "      <td>2</td>\n",
       "    </tr>\n",
       "    <tr>\n",
       "      <th>10732320</th>\n",
       "      <td>10144804</td>\n",
       "      <td>[start, retargeting, null]</td>\n",
       "      <td>1</td>\n",
       "    </tr>\n",
       "    <tr>\n",
       "      <th>10732321</th>\n",
       "      <td>10144805</td>\n",
       "      <td>[start, retargeting, retargeting, null]</td>\n",
       "      <td>2</td>\n",
       "    </tr>\n",
       "    <tr>\n",
       "      <th>10732322</th>\n",
       "      <td>10144806</td>\n",
       "      <td>[start, retargeting, null]</td>\n",
       "      <td>1</td>\n",
       "    </tr>\n",
       "  </tbody>\n",
       "</table>\n",
       "<p>11319839 rows × 3 columns</p>\n",
       "</div>"
      ],
      "text/plain": [
       "            syn_ID  \\\n",
       "0                0   \n",
       "1                1   \n",
       "1                1   \n",
       "2                1   \n",
       "2                1   \n",
       "...            ...   \n",
       "10732318  10144802   \n",
       "10732319  10144803   \n",
       "10732320  10144804   \n",
       "10732321  10144805   \n",
       "10732322  10144806   \n",
       "\n",
       "                                                                                                                                                       to_chann  \\\n",
       "0         [start, google_p, other_t, other_t, other_t, other_t, other_t, other_t, other_t, other_t, other_t, seo, avail, other_t, other_t, other_t, avail, o...   \n",
       "1         [start, other_t, other_t, other_t, other_t, other_t, other_t, other_t, other_t, other_t, other_t, other_t, other_t, other_t, other_t, other_t, oth...   \n",
       "1                                                                                                                                                            []   \n",
       "2         [start, google_p, google_p, google_p, google_p, google_p, google_p, google_p, google_p, seo, seo, seo, seo, seo, seo, seo, other_p, other_p, other...   \n",
       "2                                                                                                                                                            []   \n",
       "...                                                                                                                                                         ...   \n",
       "10732318                                                                                                                             [start, retargeting, null]   \n",
       "10732319                                                                                                                [start, retargeting, retargeting, null]   \n",
       "10732320                                                                                                                             [start, retargeting, null]   \n",
       "10732321                                                                                                                [start, retargeting, retargeting, null]   \n",
       "10732322                                                                                                                             [start, retargeting, null]   \n",
       "\n",
       "          sess  \n",
       "0           28  \n",
       "1           39  \n",
       "1            1  \n",
       "2           25  \n",
       "2            1  \n",
       "...        ...  \n",
       "10732318     1  \n",
       "10732319     2  \n",
       "10732320     1  \n",
       "10732321     2  \n",
       "10732322     1  \n",
       "\n",
       "[11319839 rows x 3 columns]"
      ]
     },
     "execution_count": 28,
     "metadata": {},
     "output_type": "execute_result"
    }
   ],
   "source": [
    "# count the number of sessions in each path\n",
    "df_paths2['sess'] = df_paths2['to_chann'].apply(lambda x: len(x) - x.count('conversion') - x.count('null') - x.count('start') - x.count('cart') - x.count('avail') - x.count('fav'))"
   ]
  },
  {
   "attachments": {},
   "cell_type": "markdown",
   "id": "eea134d2",
   "metadata": {},
   "source": [
    "##### I create  df_paths_lim, which is a data frame with paths shorter than the third quantile. "
   ]
  },
  {
   "cell_type": "code",
   "execution_count": null,
   "id": "5b529a16-f907-4a12-8e41-9bb84762c5e6",
   "metadata": {},
   "outputs": [],
   "source": [
    "q3 = df_paths2['sessions_count'].quantile([0.75])"
   ]
  },
  {
   "cell_type": "code",
   "execution_count": 92,
   "id": "27f00163",
   "metadata": {},
   "outputs": [],
   "source": [
    "df_paths_lim = df_paths2[df_paths2['sessions_count'] <= q3]"
   ]
  },
  {
   "cell_type": "code",
   "execution_count": 30,
   "id": "8cb9a195",
   "metadata": {},
   "outputs": [],
   "source": [
    "# just in case - drop empty paths\n",
    "df_paths_lim = df_paths_lim[df_paths_lim['to_chann'].map(len) > 1]"
   ]
  },
  {
   "attachments": {},
   "cell_type": "markdown",
   "id": "9ae114c9",
   "metadata": {},
   "source": [
    "##### position-based models "
   ]
  },
  {
   "cell_type": "code",
   "execution_count": null,
   "id": "6699a160",
   "metadata": {},
   "outputs": [],
   "source": [
    "# now I need only paths with conversion\n",
    "df_paths_lim['is_con'] = df_paths_lim['to_chann'].apply(lambda x: 'conversion' in x)\n",
    "df_paths_conv = df_paths2[df_paths2['is_conversion'] == 1]"
   ]
  },
  {
   "cell_type": "code",
   "execution_count": null,
   "id": "bc94a7af",
   "metadata": {},
   "outputs": [],
   "source": [
    "# take the first channel in the path\n",
    "df_paths_conv['first_touch'] = df_paths_conv['channel'].str.split('|').str[1]\n",
    "\n",
    "# take the last channel in the path\n",
    "df_paths_conv['last_touch'] = df_paths_conv['channel'].str.split('|').str[-2]"
   ]
  },
  {
   "cell_type": "code",
   "execution_count": null,
   "id": "7bfef4e6",
   "metadata": {},
   "outputs": [],
   "source": [
    "# count appearances of each channel in columns first_touch, last_touch in one table\n",
    "chann_summ = df_paths_conv['first_touch'].value_counts().to_frame().join(df_paths_conv['last_touch'].value_counts().to_frame(), lsuffix='_first_touch', rsuffix='_last_touch')"
   ]
  },
  {
   "cell_type": "code",
   "execution_count": null,
   "id": "edbc0a91",
   "metadata": {},
   "outputs": [],
   "source": [
    "channel_list = ['google_t','google_p','social_t','social_p','other_t','other_p','retargeting','affiliate','compare','club','seo','direct']\n",
    "\n",
    "for channel in channel_list:\n",
    "    df_paths_conv[channel] = df_paths_conv['channel'].str.count(channel) / df_paths_conv['sess']\n",
    "\n",
    "chann_linn = df_paths_conv[['google_t','google_p','social_t','social_p',\n",
    "                            'other_t','other_p','retargeting','affiliate','compare','club','seo','direct']]"
   ]
  },
  {
   "cell_type": "code",
   "execution_count": null,
   "id": "29c165f0",
   "metadata": {},
   "outputs": [],
   "source": [
    "chann_linn = chann_linn.drop(['sessions_count'], axis=1)\n",
    "\n",
    "# total columns sum as dataframe with index\n",
    "chann_linn_sum = chann_linn.sum().to_frame()\n",
    "chann_linn_sum = chann_linn_sum.reset_index()\n",
    "chann_linn_sum"
   ]
  },
  {
   "cell_type": "code",
   "execution_count": null,
   "id": "eeb59947",
   "metadata": {},
   "outputs": [],
   "source": [
    "# rename columns in chann_linn_sum\n",
    "chann_linn_sum = chann_linn_sum.rename(columns={'index':'channel',0: 'linear'})\n",
    "\n",
    "# merge chann_linn_sum with chann_summ\n",
    "chann_summ = chann_summ.reset_index()\n",
    "chann_summ = chann_summ.rename(columns={'index':'channel'})\n",
    "chann_summ = chann_summ.merge(chann_linn_sum, on='channel', how='left')\n",
    "chann_summ['linear'] = chann_summ['linear'].fillna(0)\n",
    "chann_summ['linear'] = chann_summ['linear'].round(1)"
   ]
  },
  {
   "attachments": {},
   "cell_type": "markdown",
   "id": "ce3be671",
   "metadata": {},
   "source": [
    "##### markov chains"
   ]
  },
  {
   "cell_type": "code",
   "execution_count": null,
   "id": "b2feb56d",
   "metadata": {},
   "outputs": [],
   "source": [
    "# WORKS ONLY FOR PATHS WITHOUT EVENTS\n",
    "# so drop in each row avail, cart, fav\n",
    "df_paths_lim['to_chann'] = df_paths_lim['to_chann'].apply(lambda x: [i for i in x if i != 'avail'])\n",
    "df_paths_lim['to_chann'] = df_paths_lim['to_chann'].apply(lambda x: [i for i in x if i != 'cart'])\n",
    "df_paths_lim['to_chann'] = df_paths_lim['to_chann'].apply(lambda x: [i for i in x if i != 'fav'])"
   ]
  },
  {
   "cell_type": "code",
   "execution_count": 34,
   "id": "b9d0b174",
   "metadata": {},
   "outputs": [],
   "source": [
    "list_of_paths = df_paths_lim['to_chann']\n",
    "list_of_paths.dropna(inplace=True)"
   ]
  },
  {
   "cell_type": "code",
   "execution_count": 35,
   "id": "312dd806",
   "metadata": {},
   "outputs": [
    {
     "name": "stdout",
     "output_type": "stream",
     "text": [
      "441949\n",
      "0.043007593662518225\n"
     ]
    }
   ],
   "source": [
    "total_conversions =  list_of_paths.apply(lambda x: 'conversion' in x).sum()\n",
    "print(total_conversions)\n",
    "base_conversion_rate = total_conversions / len(list_of_paths)\n",
    "print(base_conversion_rate)"
   ]
  },
  {
   "cell_type": "code",
   "execution_count": 36,
   "id": "18f97f98",
   "metadata": {},
   "outputs": [
    {
     "data": {
      "text/plain": [
       "['start',\n",
       " 'google_p',\n",
       " 'other_t',\n",
       " 'seo',\n",
       " 'social_p',\n",
       " 'affiliate',\n",
       " 'null',\n",
       " 'other_p',\n",
       " 'conversion',\n",
       " 'club',\n",
       " 'retargeting',\n",
       " 'social_t',\n",
       " 'google_t',\n",
       " 'direct',\n",
       " 'compare',\n",
       " '']"
      ]
     },
     "execution_count": 36,
     "metadata": {},
     "output_type": "execute_result"
    }
   ],
   "source": [
    "list_of_unique_channels = []\n",
    "for path in list_of_paths:\n",
    "    for channel in path:\n",
    "        if channel not in list_of_unique_channels:\n",
    "            list_of_unique_channels.append(channel)"
   ]
  },
  {
   "cell_type": "code",
   "execution_count": 37,
   "id": "50c11b6f",
   "metadata": {},
   "outputs": [],
   "source": [
    "transition_states = {x + '>' + y: 0 for x in list_of_unique_channels for y in list_of_unique_channels}"
   ]
  },
  {
   "cell_type": "code",
   "execution_count": null,
   "id": "59059532-dce3-47cd-ac82-d7a47c6aeee1",
   "metadata": {},
   "outputs": [],
   "source": [
    "for possible_state in list_of_unique_channels:\n",
    "        if possible_state not in ['conversion', 'null']:\n",
    "            for user_path in list_of_paths:\n",
    "                if possible_state in user_path:\n",
    "                    indices = [i for i, s in enumerate(user_path) if possible_state in s]\n",
    "                    for col in indices:\n",
    "                        transition_states[user_path[col] + '>' + user_path[col + 1]] += 1"
   ]
  },
  {
   "cell_type": "code",
   "execution_count": 18,
   "id": "0cb662b1",
   "metadata": {},
   "outputs": [],
   "source": [
    "from collections import defaultdict"
   ]
  },
  {
   "cell_type": "code",
   "execution_count": 40,
   "id": "b3f8a561",
   "metadata": {},
   "outputs": [],
   "source": [
    "trans_prob = defaultdict(dict)\n",
    "\n",
    "def transition_prob(trans_dict):\n",
    "    list_of_unique_channels = set(x for element in list_of_paths for x in element)\n",
    "    for state in list_of_unique_channels:\n",
    "        if state not in ['conversion', 'null']:\n",
    "            counter = 0\n",
    "            index = [i for i, s in enumerate(trans_dict) if state + '>' in s]\n",
    "            for col in index:\n",
    "                if trans_dict[list(trans_dict)[col]] > 0:\n",
    "                    counter += trans_dict[list(trans_dict)[col]]\n",
    "            for col in index:\n",
    "                if trans_dict[list(trans_dict)[col]] > 0:\n",
    "                    state_prob = float((trans_dict[list(trans_dict)[col]])) / float(counter)\n",
    "                    trans_prob[list(trans_dict)[col]] = state_prob\n",
    "\n",
    "    return trans_prob\n",
    "\n",
    "trans_prob = transition_prob(transition_states)"
   ]
  },
  {
   "cell_type": "code",
   "execution_count": 41,
   "id": "db2c7926",
   "metadata": {},
   "outputs": [],
   "source": [
    "def transition_matrix(list_of_paths, transition_probabilities):\n",
    "    trans_matrix = pd.DataFrame()\n",
    "    list_of_unique_channels = set(x for element in list_of_paths for x in element)\n",
    "\n",
    "    for channel in list_of_unique_channels:\n",
    "        trans_matrix[channel] = 0.00\n",
    "        trans_matrix.loc[channel] = 0.00\n",
    "        trans_matrix.loc[channel][channel] = 1.0 if channel in ['conversion', 'null'] else 0.0\n",
    "\n",
    "    for key, value in transition_probabilities.items():\n",
    "        origin, destination = key.split('>')\n",
    "        trans_matrix.at[origin, destination] = value\n",
    "\n",
    "    return trans_matrix\n",
    "\n",
    "\n",
    "trans_matrix = transition_matrix(list_of_paths, trans_prob)"
   ]
  },
  {
   "cell_type": "code",
   "execution_count": 46,
   "id": "882efbc0",
   "metadata": {},
   "outputs": [
    {
     "data": {
      "image/png": "[encoded data removed]",
      "text/plain": [
       "<Figure size 1440x720 with 2 Axes>"
      ]
     },
     "metadata": {
      "needs_background": "light"
     },
     "output_type": "display_data"
    }
   ],
   "source": [
    "plt.figure(figsize=(20, 10))\n",
    "sns.heatmap(trans_matrix, annot=True, fmt='.2f', cmap='Blues')\n",
    "plt.show()"
   ]
  },
  {
   "attachments": {},
   "cell_type": "markdown",
   "id": "deb1472e",
   "metadata": {},
   "source": [
    "##### removal effect"
   ]
  },
  {
   "cell_type": "code",
   "execution_count": 72,
   "id": "4c13ab15",
   "metadata": {},
   "outputs": [],
   "source": [
    "def removal_effects(df, conversion_rate):\n",
    "    removal_effects_dict = {}\n",
    "    channels = [channel for channel in df.columns if channel not in ['start',\n",
    "                                                                     'null',\n",
    "                                                                     'conversion']]\n",
    "    for channel in channels:\n",
    "        removal_df = df.drop(channel, axis=1).drop(channel, axis=0)\n",
    "        for column in removal_df.columns:\n",
    "            row_sum = np.sum(list(removal_df.loc[column]))\n",
    "            null_pct = float(1) - row_sum\n",
    "            if null_pct != 0:\n",
    "                removal_df.loc[column]['null'] = null_pct\n",
    "            removal_df.loc['null']['null'] = 1.0\n",
    "\n",
    "        removal_to_conv = removal_df[\n",
    "            ['null', 'conversion']].drop(['null', 'conversion'], axis=0)\n",
    "        removal_to_non_conv = removal_df.drop(\n",
    "            ['null', 'conversion'], axis=1).drop(['null', 'conversion'], axis=0)\n",
    "\n",
    "        removal_inv_diff = np.linalg.inv(\n",
    "            np.identity(\n",
    "                len(removal_to_non_conv.columns)) - np.asarray(removal_to_non_conv))\n",
    "        removal_dot_prod = np.dot(removal_inv_diff, np.asarray(removal_to_conv))\n",
    "        removal_cvr = pd.DataFrame(removal_dot_prod,\n",
    "                                   index=removal_to_conv.index)[[1]].loc['start'].values[0]\n",
    "        removal_effect = 1 - removal_cvr / conversion_rate\n",
    "        removal_effects_dict[channel] = removal_effect\n",
    "\n",
    "    return removal_effects_dict\n",
    "\n",
    "\n",
    "removal_effects_dict = removal_effects(trans_matrix, base_conversion_rate)"
   ]
  },
  {
   "cell_type": "code",
   "execution_count": 73,
   "id": "d269acde",
   "metadata": {},
   "outputs": [],
   "source": [
    "removal_effects_dict = {}\n",
    "channels = [channel for channel in trans_matrix.columns if channel not in ['start', 'null', 'conversion']]"
   ]
  },
  {
   "cell_type": "code",
   "execution_count": 74,
   "id": "e00e077b",
   "metadata": {},
   "outputs": [],
   "source": [
    "for channel in channels:\n",
    "    removal_df = trans_matrix.drop(channel, axis=1).drop(channel, axis=0)\n",
    "    for column in removal_df.columns:\n",
    "        row_sum = np.sum(list(removal_df.loc[column]))\n",
    "        null_pct = float(1) - row_sum\n",
    "        if null_pct != 0:\n",
    "            removal_df.loc[column]['null'] = null_pct\n",
    "        removal_df.loc['null']['null'] = 1.0\n",
    "#    print(removal_df)\n",
    "\n",
    "    removal_to_conv = removal_df[['null', 'conversion']].drop(['null', 'conversion'], axis=0)\n",
    "    removal_to_non_conv = removal_df.drop(['null', 'conversion'], axis=1).drop(['null', 'conversion'], axis=0)\n",
    "\n",
    "    removal_inv_diff = np.linalg.inv(\n",
    "            np.identity(\n",
    "                len(removal_to_non_conv.columns)) - np.asarray(removal_to_non_conv))\n",
    "    removal_dot_prod = np.dot(removal_inv_diff, np.asarray(removal_to_conv))\n",
    "#    print(removal_dot_prod)\n",
    "\n",
    "    removal_cvr = pd.DataFrame(removal_dot_prod,\n",
    "                                   index=removal_to_conv.index)[[1]].loc['start'].values[0]\n",
    "#    print(removal_cvr)\n",
    "    removal_effect = 1 - removal_cvr / base_conversion_rate\n",
    "    removal_effects_dict[channel] = removal_effect"
   ]
  },
  {
   "cell_type": "code",
   "execution_count": 76,
   "id": "12dea1cb",
   "metadata": {},
   "outputs": [
    {
     "data": {
      "text/plain": [
       "{'': 0.02171422178408883,\n",
       " 'seo': 77599.16126865245,\n",
       " 'compare': 5264.101419308696,\n",
       " 'cart': 37375.22082375838,\n",
       " 'fav': 6428.203373567762,\n",
       " 'club': 19790.2480260936,\n",
       " 'social_p': 28163.47950513172,\n",
       " 'avail': 17988.307813322743,\n",
       " 'google_p': 121000.65640102176,\n",
       " 'retargeting': 5275.219698510449,\n",
       " 'affiliate': 44990.28466722312,\n",
       " 'other_t': 11641.227710324076,\n",
       " 'other_p': 19820.744948517404,\n",
       " 'direct': 31977.14556564027,\n",
       " 'social_t': 6922.966521199283,\n",
       " 'google_t': 7712.010543506501}"
      ]
     },
     "execution_count": 76,
     "metadata": {},
     "output_type": "execute_result"
    }
   ],
   "source": [
    "re_sum = np.sum(list(removal_effects_dict.values()))\n",
    "\n",
    "attributions =  {k: (v / re_sum) * total_conversions for k, v in removal_effects_dict.items()}\n",
    "attributions"
   ]
  },
  {
   "attachments": {},
   "cell_type": "markdown",
   "id": "0cfd9d87",
   "metadata": {},
   "source": [
    "##### regression"
   ]
  },
  {
   "cell_type": "code",
   "execution_count": 6,
   "id": "23806fc3",
   "metadata": {},
   "outputs": [],
   "source": [
    "# create logistic regression model\n",
    "from sklearn.linear_model import LogisticRegression\n",
    "from sklearn.model_selection import train_test_split\n",
    "from sklearn.metrics import accuracy_score\n",
    "from scipy import stats\n",
    "import statsmodels.api as sm\n",
    "\n",
    "from sklearn.metrics import classification_report\n",
    "from sklearn.metrics import confusion_matrix\n",
    "from sklearn.preprocessing import StandardScaler"
   ]
  },
  {
   "cell_type": "code",
   "execution_count": 9,
   "id": "11d69e2c",
   "metadata": {},
   "outputs": [],
   "source": [
    "# create X and y\n",
    "df_paths2.dropna(inplace=True)\n",
    "X = df_paths2[['sess','fav','avail','cart','google_t','google_p','social_t','social_p',\n",
    "                'other_t','other_p','retargeting','affiliate','compare','club','seo','direct']]\n",
    "y = df_paths2['is_conversion']"
   ]
  },
  {
   "cell_type": "code",
   "execution_count": 10,
   "id": "895c5197",
   "metadata": {},
   "outputs": [],
   "source": [
    "# split data into train and test\n",
    "X_train, X_test, y_train, y_test = train_test_split(X, y, test_size=0.15, random_state=0)"
   ]
  },
  {
   "cell_type": "code",
   "execution_count": null,
   "id": "d3588903-24a8-496e-a4bc-90415267a304",
   "metadata": {},
   "outputs": [],
   "source": [
    "logreg_first_try = LogisticRegression().fit(X_train, y_train)"
   ]
  },
  {
   "cell_type": "code",
   "execution_count": 34,
   "id": "cd5eb627",
   "metadata": {},
   "outputs": [
    {
     "data": {
      "text/html": [
       "<div>\n",
       "<style scoped>\n",
       "    .dataframe tbody tr th:only-of-type {\n",
       "        vertical-align: middle;\n",
       "    }\n",
       "\n",
       "    .dataframe tbody tr th {\n",
       "        vertical-align: top;\n",
       "    }\n",
       "\n",
       "    .dataframe thead th {\n",
       "        text-align: right;\n",
       "    }\n",
       "</style>\n",
       "<table border=\"1\" class=\"dataframe\">\n",
       "  <thead>\n",
       "    <tr style=\"text-align: right;\">\n",
       "      <th></th>\n",
       "      <th>coefficients</th>\n",
       "      <th>exp coeff</th>\n",
       "    </tr>\n",
       "  </thead>\n",
       "  <tbody>\n",
       "    <tr>\n",
       "      <th>sess</th>\n",
       "      <td>-0.855377</td>\n",
       "      <td>0.425123</td>\n",
       "    </tr>\n",
       "    <tr>\n",
       "      <th>fav</th>\n",
       "      <td>-0.057301</td>\n",
       "      <td>0.944310</td>\n",
       "    </tr>\n",
       "    <tr>\n",
       "      <th>avail</th>\n",
       "      <td>-0.087348</td>\n",
       "      <td>0.916358</td>\n",
       "    </tr>\n",
       "    <tr>\n",
       "      <th>cart</th>\n",
       "      <td>1.430867</td>\n",
       "      <td>4.182325</td>\n",
       "    </tr>\n",
       "    <tr>\n",
       "      <th>google_t</th>\n",
       "      <td>0.902493</td>\n",
       "      <td>2.465742</td>\n",
       "    </tr>\n",
       "    <tr>\n",
       "      <th>google_p</th>\n",
       "      <td>0.904888</td>\n",
       "      <td>2.471655</td>\n",
       "    </tr>\n",
       "    <tr>\n",
       "      <th>social_t</th>\n",
       "      <td>0.771117</td>\n",
       "      <td>2.162180</td>\n",
       "    </tr>\n",
       "    <tr>\n",
       "      <th>social_p</th>\n",
       "      <td>0.868441</td>\n",
       "      <td>2.383193</td>\n",
       "    </tr>\n",
       "    <tr>\n",
       "      <th>other_t</th>\n",
       "      <td>0.900213</td>\n",
       "      <td>2.460128</td>\n",
       "    </tr>\n",
       "    <tr>\n",
       "      <th>other_p</th>\n",
       "      <td>0.876813</td>\n",
       "      <td>2.403228</td>\n",
       "    </tr>\n",
       "    <tr>\n",
       "      <th>retargeting</th>\n",
       "      <td>0.920099</td>\n",
       "      <td>2.509538</td>\n",
       "    </tr>\n",
       "    <tr>\n",
       "      <th>affiliate</th>\n",
       "      <td>0.922743</td>\n",
       "      <td>2.516182</td>\n",
       "    </tr>\n",
       "    <tr>\n",
       "      <th>compare</th>\n",
       "      <td>0.911283</td>\n",
       "      <td>2.487513</td>\n",
       "    </tr>\n",
       "    <tr>\n",
       "      <th>club</th>\n",
       "      <td>0.851059</td>\n",
       "      <td>2.342126</td>\n",
       "    </tr>\n",
       "    <tr>\n",
       "      <th>seo</th>\n",
       "      <td>0.908525</td>\n",
       "      <td>2.480660</td>\n",
       "    </tr>\n",
       "    <tr>\n",
       "      <th>direct</th>\n",
       "      <td>0.905519</td>\n",
       "      <td>2.473215</td>\n",
       "    </tr>\n",
       "  </tbody>\n",
       "</table>\n",
       "</div>"
      ],
      "text/plain": [
       "             coefficients  exp coeff\n",
       "sess            -0.855377   0.425123\n",
       "fav             -0.057301   0.944310\n",
       "avail           -0.087348   0.916358\n",
       "cart             1.430867   4.182325\n",
       "google_t         0.902493   2.465742\n",
       "google_p         0.904888   2.471655\n",
       "social_t         0.771117   2.162180\n",
       "social_p         0.868441   2.383193\n",
       "other_t          0.900213   2.460128\n",
       "other_p          0.876813   2.403228\n",
       "retargeting      0.920099   2.509538\n",
       "affiliate        0.922743   2.516182\n",
       "compare          0.911283   2.487513\n",
       "club             0.851059   2.342126\n",
       "seo              0.908525   2.480660\n",
       "direct           0.905519   2.473215"
      ]
     },
     "execution_count": 34,
     "metadata": {},
     "output_type": "execute_result"
    }
   ],
   "source": [
    "# create df with coefficients and standard errors\n",
    "coefficients = pd.DataFrame(logreg_first_try.coef_.T, index=X_train.columns, columns=['coefficients'])\n",
    "coefficients['exp coeff'] = (lambda x: np.exp(x))(coefficients['coefficients'])\n",
    "coefficients['standard errors'] = sm.Logit(y_train, X_train).fit().bse\n",
    "coefficients['p-values'] = sm.Logit(y_train, X_train).fit().pvalues \n",
    "coefficients"
   ]
  }
 ],
 "metadata": {
  "kernelspec": {
   "display_name": "Python 3 (ipykernel)",
   "language": "python",
   "name": "python3"
  },
  "language_info": {
   "codemirror_mode": {
    "name": "ipython",
    "version": 3
   },
   "file_extension": ".py",
   "mimetype": "text/x-python",
   "name": "python",
   "nbconvert_exporter": "python",
   "pygments_lexer": "ipython3",
   "version": "3.11.7"
  },
  "vscode": {
   "interpreter": {
    "hash": "2c5549f85c0cbde40a928f2ab759baecfbaf37c621007fdeef8440bcad016c83"
   }
  }
 },
 "nbformat": 4,
 "nbformat_minor": 5
}
